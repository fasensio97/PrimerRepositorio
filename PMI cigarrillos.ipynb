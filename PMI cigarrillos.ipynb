{
 "cells": [
  {
   "cell_type": "markdown",
   "id": "ddd498cc",
   "metadata": {},
   "source": [
    "Este file fue para juntar las órdenes de los diferentes cigarrillos ya que no teníamos una sección que los junte por marca y había que hacerlo si o si por el product name"
   ]
  },
  {
   "cell_type": "code",
   "execution_count": null,
   "id": "e7e9df08",
   "metadata": {},
   "outputs": [],
   "source": [
    "import pandas as pd\n",
    "import numpy as np\n",
    "import seaborn as sns\n",
    "import matplotlib as mpl\n",
    "import matplotlib.pyplot as plt"
   ]
  },
  {
   "cell_type": "markdown",
   "id": "9233d585",
   "metadata": {},
   "source": [
    "# Ordenes"
   ]
  },
  {
   "cell_type": "code",
   "execution_count": 59,
   "id": "2d2befd9",
   "metadata": {},
   "outputs": [
    {
     "name": "stdout",
     "output_type": "stream",
     "text": [
      "El total de órdenes de cigarrillos es:  713268\n"
     ]
    }
   ],
   "source": [
    "df = pd.read_csv(\"C:/Users/federico.asensio/Downloads/PMI_orders.csv\", thousands = ',' )\n",
    "df = df.rename(columns={'Order PedidosYa Details Product name':'product_name','Orders PedidosYa Confirmed orders (SUM)':'orders'})\n",
    "df['product_name'] = df['product_name'].str.lower()\n",
    "\n",
    "total_orders = df.orders.sum()\n",
    "\n",
    "print(\"El total de órdenes de cigarrillos es: \", total_orders)"
   ]
  },
  {
   "cell_type": "code",
   "execution_count": 60,
   "id": "54e20ebd",
   "metadata": {},
   "outputs": [
    {
     "name": "stdout",
     "output_type": "stream",
     "text": [
      "orders:  172081  %: 0.24125714317759944\n"
     ]
    }
   ],
   "source": [
    "philip = df[(df.product_name.str.contains('philip'))]\n",
    "philip_orders = philip.orders.sum()\n",
    "philip_porc = philip_orders/total_orders  \n",
    "print('orders: ', philip_orders, ' %:', philip_porc)\n"
   ]
  },
  {
   "cell_type": "code",
   "execution_count": 61,
   "id": "a1290f38",
   "metadata": {},
   "outputs": [
    {
     "name": "stdout",
     "output_type": "stream",
     "text": [
      "orders:  251623  %: 0.3527748335828889\n"
     ]
    }
   ],
   "source": [
    "marlboro = df[(df.product_name.str.contains('marlboro'))]\n",
    "marlboro_orders = marlboro.orders.sum()\n",
    "marlboro_porc = marlboro_orders/total_orders  \n",
    "print('orders: ', marlboro_orders, ' %:', marlboro_porc)"
   ]
  },
  {
   "cell_type": "code",
   "execution_count": 62,
   "id": "89779670",
   "metadata": {},
   "outputs": [
    {
     "name": "stdout",
     "output_type": "stream",
     "text": [
      "orders:  17982  %: 0.025210720234189674\n"
     ]
    }
   ],
   "source": [
    "camel = df[(df.product_name.str.contains('camel'))]\n",
    "camel_orders = camel.orders.sum()\n",
    "camel_porc = camel_orders/total_orders  \n",
    "print('orders: ', camel_orders, ' %:', camel_porc)"
   ]
  },
  {
   "cell_type": "code",
   "execution_count": 63,
   "id": "8806b4ce",
   "metadata": {},
   "outputs": [
    {
     "name": "stdout",
     "output_type": "stream",
     "text": [
      "orders:  113472  %: 0.15908746782415586\n"
     ]
    }
   ],
   "source": [
    "lucky = df[(df.product_name.str.contains('lucky'))]\n",
    "lucky_orders = lucky.orders.sum()\n",
    "lucky_porc = lucky_orders/total_orders  \n",
    "print('orders: ', lucky_orders, ' %:', lucky_porc)"
   ]
  },
  {
   "cell_type": "code",
   "execution_count": 64,
   "id": "865f48c2",
   "metadata": {},
   "outputs": [
    {
     "name": "stdout",
     "output_type": "stream",
     "text": [
      "orders:  70996  %: 0.09953621920512346\n"
     ]
    }
   ],
   "source": [
    "chesterfield = df[(df.product_name.str.contains('chesterfield'))]\n",
    "chesterfield_orders = chesterfield.orders.sum()\n",
    "chesterfield_porc = chesterfield_orders/total_orders  \n",
    "print('orders: ', chesterfield_orders, ' %:', chesterfield_porc)"
   ]
  },
  {
   "cell_type": "code",
   "execution_count": 65,
   "id": "15484f1a",
   "metadata": {},
   "outputs": [
    {
     "name": "stdout",
     "output_type": "stream",
     "text": [
      "orders:  15685  %: 0.02199033182478395\n"
     ]
    }
   ],
   "source": [
    "red_point = df[(df.product_name.str.contains('red point'))]\n",
    "red_point_orders = red_point.orders.sum()\n",
    "red_point_porc = red_point_orders/total_orders  \n",
    "print('orders: ', red_point_orders, ' %:', red_point_porc)"
   ]
  },
  {
   "cell_type": "code",
   "execution_count": 66,
   "id": "484979bf",
   "metadata": {},
   "outputs": [
    {
     "name": "stdout",
     "output_type": "stream",
     "text": [
      "orders:  17779  %: 0.024926114728264833\n"
     ]
    }
   ],
   "source": [
    "parliament = df[(df.product_name.str.contains('parliament'))]\n",
    "parliament_orders = parliament.orders.sum()\n",
    "parliament_porc = parliament_orders/total_orders  \n",
    "print('orders: ', parliament_orders, ' %:', parliament_porc)"
   ]
  },
  {
   "cell_type": "code",
   "execution_count": 67,
   "id": "a625d431",
   "metadata": {},
   "outputs": [
    {
     "name": "stdout",
     "output_type": "stream",
     "text": [
      "orders:  12063  %: 0.01691229664025303\n"
     ]
    }
   ],
   "source": [
    "rothmans = df[(df.product_name.str.contains('rothmans'))]\n",
    "rothmans_orders = rothmans.orders.sum()\n",
    "rothmans_porc = rothmans_orders/total_orders  \n",
    "print('orders: ', rothmans_orders, ' %:', rothmans_porc)"
   ]
  },
  {
   "cell_type": "code",
   "execution_count": 68,
   "id": "537e6df7",
   "metadata": {},
   "outputs": [
    {
     "name": "stdout",
     "output_type": "stream",
     "text": [
      "orders:  6195  %: 0.008685374922189135\n"
     ]
    }
   ],
   "source": [
    "dolchester = df[(df.product_name.str.contains('dolchester'))]\n",
    "dolchester_orders = dolchester.orders.sum()\n",
    "dolchester_porc = dolchester_orders/total_orders  \n",
    "print('orders: ', dolchester_orders, ' %:', dolchester_porc)"
   ]
  },
  {
   "cell_type": "code",
   "execution_count": 69,
   "id": "13db9603",
   "metadata": {},
   "outputs": [
    {
     "name": "stdout",
     "output_type": "stream",
     "text": [
      "orders:  6827  %: 0.009571437383984702\n"
     ]
    }
   ],
   "source": [
    "melbourne = df[(df.product_name.str.contains('melbourne'))]\n",
    "melbourne_orders = melbourne.orders.sum()\n",
    "melbourne_porc = melbourne_orders/total_orders \n",
    "print('orders: ', melbourne_orders, ' %:', melbourne_porc)"
   ]
  },
  {
   "cell_type": "code",
   "execution_count": 70,
   "id": "7861dcf4",
   "metadata": {},
   "outputs": [
    {
     "name": "stdout",
     "output_type": "stream",
     "text": [
      "orders:  3644  %: 0.005108879130985828\n"
     ]
    }
   ],
   "source": [
    "pier = df[(df.product_name.str.contains('pier'))]\n",
    "pier_orders = pier.orders.sum()\n",
    "pier_porc = pier_orders/total_orders  \n",
    "print('orders: ', pier_orders, ' %:', pier_porc)"
   ]
  },
  {
   "cell_type": "code",
   "execution_count": 75,
   "id": "130b0775",
   "metadata": {},
   "outputs": [
    {
     "data": {
      "text/html": [
       "<div>\n",
       "<style scoped>\n",
       "    .dataframe tbody tr th:only-of-type {\n",
       "        vertical-align: middle;\n",
       "    }\n",
       "\n",
       "    .dataframe tbody tr th {\n",
       "        vertical-align: top;\n",
       "    }\n",
       "\n",
       "    .dataframe thead th {\n",
       "        text-align: right;\n",
       "    }\n",
       "</style>\n",
       "<table border=\"1\" class=\"dataframe\">\n",
       "  <thead>\n",
       "    <tr style=\"text-align: right;\">\n",
       "      <th></th>\n",
       "      <th>Marca</th>\n",
       "      <th>Orders</th>\n",
       "      <th>%</th>\n",
       "      <th>% acum</th>\n",
       "    </tr>\n",
       "  </thead>\n",
       "  <tbody>\n",
       "    <tr>\n",
       "      <th>1</th>\n",
       "      <td>Marlboro</td>\n",
       "      <td>251623</td>\n",
       "      <td>0.352775</td>\n",
       "      <td>0.352775</td>\n",
       "    </tr>\n",
       "    <tr>\n",
       "      <th>0</th>\n",
       "      <td>PM</td>\n",
       "      <td>172081</td>\n",
       "      <td>0.241257</td>\n",
       "      <td>0.594032</td>\n",
       "    </tr>\n",
       "    <tr>\n",
       "      <th>4</th>\n",
       "      <td>Lucky Strike</td>\n",
       "      <td>113472</td>\n",
       "      <td>0.159087</td>\n",
       "      <td>0.753119</td>\n",
       "    </tr>\n",
       "    <tr>\n",
       "      <th>3</th>\n",
       "      <td>Chesterfield</td>\n",
       "      <td>70996</td>\n",
       "      <td>0.099536</td>\n",
       "      <td>0.852656</td>\n",
       "    </tr>\n",
       "    <tr>\n",
       "      <th>2</th>\n",
       "      <td>Camel</td>\n",
       "      <td>17982</td>\n",
       "      <td>0.025211</td>\n",
       "      <td>0.877866</td>\n",
       "    </tr>\n",
       "    <tr>\n",
       "      <th>6</th>\n",
       "      <td>Parliament</td>\n",
       "      <td>17779</td>\n",
       "      <td>0.024926</td>\n",
       "      <td>0.902792</td>\n",
       "    </tr>\n",
       "    <tr>\n",
       "      <th>5</th>\n",
       "      <td>Red Point</td>\n",
       "      <td>15685</td>\n",
       "      <td>0.021990</td>\n",
       "      <td>0.924783</td>\n",
       "    </tr>\n",
       "    <tr>\n",
       "      <th>7</th>\n",
       "      <td>Rothmans</td>\n",
       "      <td>12063</td>\n",
       "      <td>0.016912</td>\n",
       "      <td>0.941695</td>\n",
       "    </tr>\n",
       "    <tr>\n",
       "      <th>9</th>\n",
       "      <td>Melbourne</td>\n",
       "      <td>6827</td>\n",
       "      <td>0.009571</td>\n",
       "      <td>0.951267</td>\n",
       "    </tr>\n",
       "    <tr>\n",
       "      <th>8</th>\n",
       "      <td>Dolchester</td>\n",
       "      <td>6195</td>\n",
       "      <td>0.008685</td>\n",
       "      <td>0.959952</td>\n",
       "    </tr>\n",
       "    <tr>\n",
       "      <th>10</th>\n",
       "      <td>Pier</td>\n",
       "      <td>3644</td>\n",
       "      <td>0.005109</td>\n",
       "      <td>0.965061</td>\n",
       "    </tr>\n",
       "  </tbody>\n",
       "</table>\n",
       "</div>"
      ],
      "text/plain": [
       "           Marca  Orders         %    % acum\n",
       "1       Marlboro  251623  0.352775  0.352775\n",
       "0             PM  172081  0.241257  0.594032\n",
       "4   Lucky Strike  113472  0.159087  0.753119\n",
       "3   Chesterfield   70996  0.099536  0.852656\n",
       "2          Camel   17982  0.025211  0.877866\n",
       "6     Parliament   17779  0.024926  0.902792\n",
       "5      Red Point   15685  0.021990  0.924783\n",
       "7       Rothmans   12063  0.016912  0.941695\n",
       "9      Melbourne    6827  0.009571  0.951267\n",
       "8     Dolchester    6195  0.008685  0.959952\n",
       "10          Pier    3644  0.005109  0.965061"
      ]
     },
     "execution_count": 75,
     "metadata": {},
     "output_type": "execute_result"
    }
   ],
   "source": [
    "data = [['PM',philip_orders,philip_porc],['Marlboro',marlboro_orders,marlboro_porc],['Camel',camel_orders,camel_porc],['Chesterfield',chesterfield_orders,chesterfield_porc],['Lucky Strike',lucky_orders,lucky_porc],['Red Point',red_point_orders,red_point_porc],['Parliament',parliament_orders,parliament_porc],['Rothmans',rothmans_orders,rothmans_porc],['Dolchester',dolchester_orders,dolchester_porc],['Melbourne',melbourne_orders,melbourne_porc],['Pier',pier_orders,pier_porc]]\n",
    "data\n",
    "orders = pd.DataFrame(data, columns=['Marca', 'Orders','%'])\n",
    "orders = orders.sort_values(['Orders'], ascending=False)\n",
    "orders['% acum'] = orders['%'].cumsum()\n",
    "#orders['%'] = pd.Series([\"{0:.2f}%\".format(val) for val in orders['%']], index = orders.index)\n",
    "\n",
    "#orders = orders.drop(columns = 'Unnamed: 0')\n",
    "orders\n"
   ]
  },
  {
   "cell_type": "code",
   "execution_count": null,
   "id": "e9ad1965",
   "metadata": {},
   "outputs": [],
   "source": []
  },
  {
   "cell_type": "code",
   "execution_count": 81,
   "id": "26e4b3ae",
   "metadata": {},
   "outputs": [
    {
     "data": {
      "text/plain": [
       "<AxesSubplot:>"
      ]
     },
     "execution_count": 81,
     "metadata": {},
     "output_type": "execute_result"
    },
    {
     "data": {
      "image/png": "[encoded data removed]",
      "text/plain": [
       "<Figure size 432x288 with 1 Axes>"
      ]
     },
     "metadata": {
      "needs_background": "light"
     },
     "output_type": "display_data"
    }
   ],
   "source": [
    "orders.plot(kind = 'barh')"
   ]
  },
  {
   "cell_type": "code",
   "execution_count": null,
   "id": "4a294a74",
   "metadata": {},
   "outputs": [],
   "source": []
  }
 ],
 "metadata": {
  "kernelspec": {
   "display_name": "Python 3 (ipykernel)",
   "language": "python",
   "name": "python3"
  },
  "language_info": {
   "codemirror_mode": {
    "name": "ipython",
    "version": 3
   },
   "file_extension": ".py",
   "mimetype": "text/x-python",
   "name": "python",
   "nbconvert_exporter": "python",
   "pygments_lexer": "ipython3",
   "version": "3.9.7"
  }
 },
 "nbformat": 4,
 "nbformat_minor": 5
}
